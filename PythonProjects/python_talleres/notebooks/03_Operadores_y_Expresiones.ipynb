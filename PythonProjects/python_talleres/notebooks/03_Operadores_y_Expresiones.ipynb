{
 "cells": [
  {
   "cell_type": "markdown",
   "metadata": {},
   "source": [
    "# 3) Operadores y expresiones\n",
    "\n",
    "## ¿Qué son?\n",
    "Los **operadores** combinan valores para producir un resultado (*expresiones*).\n",
    "\n",
    "## ¿Para qué se usan?\n",
    "Para **calcular, comparar y tomar decisiones**. Son la base de toda lógica.\n",
    "\n",
    "## Familias principales\n",
    "- Aritméticos: `+ - * / // % **`\n",
    "- Comparación: `== != > < >= <=`\n",
    "- Lógicos: `and or not`\n",
    "- Precedencia: paréntesis > potencias > multiplicación/división > suma/resta\n"
   ]
  },
  {
   "cell_type": "code",
   "execution_count": null,
   "metadata": {},
   "outputs": [],
   "source": [
    "a, b = 10, 3\n",
    "print(\"Aritméticos:\", a + b, a - b, a * b, a / b, a // b, a % b, a ** b)\n",
    "print(\"Comparación:\", a == b, a != b, a > b, a <= b)\n",
    "x, y = True, False\n",
    "print(\"Lógicos:\", x and y, x or y, not x)\n"
   ]
  },
  {
   "cell_type": "markdown",
   "metadata": {},
   "source": [
    "### Ejercicios\n",
    "- E1: Área de un círculo con `pi=3.14159` y radio fijo.\n",
    "- E2: Verifica si un número es múltiplo de 3 y 5.\n",
    "- E3: Evalúa si una edad está en el rango 18–65.\n",
    "\n",
    "### Reto extra\n",
    "Calculadora por consola que reciba `a`, `b` y una operación, y muestre el resultado.\n"
   ]
  },
  {
   "cell_type": "code",
   "execution_count": null,
   "id": "591e0d4d",
   "metadata": {},
   "outputs": [],
   "source": [
    "\n",
    "PI = 3.14159\n",
    "\n",
    "def area_circulo(radio):\n",
    "    \n",
    "    area = PI * (radio ** 2)\n",
    "    return area\n",
    "\n",
    "radio_fijo = 5\n",
    "\n",
    "area_resultante = area_circulo(radio_fijo)\n",
    "print(f\"El área del círculo con radio {radio_fijo} es: {area_resultante}\")\n"
   ]
  },
  {
   "cell_type": "code",
   "execution_count": null,
   "id": "d874bfff",
   "metadata": {},
   "outputs": [],
   "source": [
    "def es_multiplo_de_3_y_5(numero):\n",
    " \n",
    "    if numero % 3 == 0 and numero % 5 == 0:\n",
    "        return True\n",
    "    else:\n",
    "        return False\n",
    "\n",
    "print(f\"¿15 es múltiplo de 3 y 5?: {es_multiplo_de_3_y_5(15)}\")\n",
    "print(f\"¿10 es múltiplo de 3 y 5?: {es_multiplo_de_3_y_5(10)}\")"
   ]
  },
  {
   "cell_type": "code",
   "execution_count": null,
   "id": "f24b8203",
   "metadata": {},
   "outputs": [],
   "source": [
    "def esta_en_rango(edad):\n",
    "    if 18 <= edad <= 65:\n",
    "        return True\n",
    "    else:\n",
    "        return False\n",
    "\n",
    "print(f\"¿La edad 25 está en el rango?: {esta_en_rango(25)}\")\n",
    "print(f\"¿La edad 17 está en el rango?: {esta_en_rango(17)}\")\n",
    "print(f\"¿La edad 70 está en el rango?: {esta_en_rango(70)}\")"
   ]
  },
  {
   "cell_type": "code",
   "execution_count": null,
   "metadata": {},
   "outputs": [],
   "source": [
    "# Pista: calculadora básica\n",
    "a, b, op = 12, 5, \"*\"\n",
    "if op == \"+\":\n",
    "    print(a + b)\n",
    "elif op == \"-\":\n",
    "    print(a - b)\n",
    "elif op == \"*\":\n",
    "    print(a * b)\n",
    "elif op == \"/\":\n",
    "    print(a / b)\n",
    "elif op == \"//\":\n",
    "    print(a // b)\n",
    "elif op == \"%\":\n",
    "    print(a % b)\n",
    "elif op == \"**\":\n",
    "    print(a ** b)\n",
    "else:\n",
    "    print(\"Operación no reconocida\")\n"
   ]
  }
 ],
 "metadata": {
  "kernelspec": {
   "display_name": "Python 3",
   "language": "python",
   "name": "python3"
  },
  "language_info": {
   "name": "python",
   "version": "3.x"
  }
 },
 "nbformat": 4,
 "nbformat_minor": 5
}
