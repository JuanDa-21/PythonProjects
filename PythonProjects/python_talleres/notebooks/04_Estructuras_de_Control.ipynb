{
 "cells": [
  {
   "cell_type": "markdown",
   "metadata": {},
   "source": [
    "# 4) Estructuras de control: `if`, `for`, `while`\n",
    "\n",
    "## ¿Qué son?\n",
    "Mecanismos para **tomar decisiones** (`if`) y **repetir acciones** (`for`, `while`).\n",
    "\n",
    "## ¿Para qué se usan?\n",
    "Para **controlar el flujo** de un programa según condiciones y colecciones.\n",
    "\n",
    "## Ideas clave\n",
    "- La **indentación** define bloques.\n",
    "- `for` itera sobre secuencias; `range(n)` genera 0..n-1.\n",
    "- `while` repite mientras la condición sea verdadera.\n",
    "- `break`/`continue` controlan el bucle.\n"
   ]
  },
  {
   "cell_type": "code",
   "execution_count": null,
   "metadata": {},
   "outputs": [],
   "source": [
    "# Par o impar\n",
    "n = 7\n",
    "if n % 2 == 0:\n",
    "    print(\"Par\")\n",
    "else:\n",
    "    print(\"Impar\")\n",
    "\n",
    "# Suma 1..10\n",
    "total = 0\n",
    "for i in range(1, 11):\n",
    "    total += i\n",
    "print(\"Suma 1..10:\", total)\n",
    "\n",
    "# Cuenta regresiva con while\n",
    "c = 5\n",
    "while c > 0:\n",
    "    print(c)\n",
    "    c -= 1\n"
   ]
  },
  {
   "cell_type": "markdown",
   "id": "f059099e",
   "metadata": {},
   "source": [
    "### Ejercicios\n",
    "- E1: Clasifica una nota (0–100) en A/B/C/D/F.\n",
    "- E2: Imprime la tabla de multiplicar de un número (1–10).\n",
    "- E3: Con `while`, pide números hasta 0; muestra suma y promedio.\n",
    "\n",
    "### Reto extra\n",
    "**FizzBuzz** de 1 a 100.\n"
   ]
  },
  {
   "cell_type": "code",
   "execution_count": null,
   "id": "ccf07998",
   "metadata": {},
   "outputs": [],
   "source": [
    "nota = float(input(\"Ingresa una nota (0-100): \"))\n",
    "\n",
    "if nota >= 90:\n",
    "    clasificacion = \"A\"\n",
    "elif nota >= 80:\n",
    "    clasificacion = \"B\"\n",
    "elif nota >= 70:\n",
    "    clasificacion = \"C\"\n",
    "elif nota >= 60:\n",
    "    clasificacion = \"D\"\n",
    "else:\n",
    "    clasificacion = \"F\"\n",
    "\n",
    "print(f\"La clasificación para la nota {nota} es: {clasificacion}\")"
   ]
  },
  {
   "cell_type": "code",
   "execution_count": null,
   "id": "4536bb6a",
   "metadata": {},
   "outputs": [],
   "source": [
    "numero = int(input(\"Ingresa un número para ver su tabla de multiplicar (1-10): \"))\n",
    "\n",
    "print(f\"Tabla de multiplicar del {numero}:\")\n",
    "for i in range(1, 11):\n",
    "    resultado = numero * i\n",
    "    print(f\"{numero} x {i} = {resultado}\")"
   ]
  },
  {
   "cell_type": "code",
   "execution_count": null,
   "id": "1a9f43a0",
   "metadata": {},
   "outputs": [],
   "source": [
    "print(\"Ingresa números para calcular la suma y el promedio. Ingresa 0 para terminar.\")\n",
    "\n",
    "while True:\n",
    "    try:\n",
    "        numero = float(input(\"Ingresa un número: \"))\n",
    "        if numero == 0:\n",
    "            break\n",
    "        suma += numero\n",
    "        contador += 1\n",
    "    except ValueError:\n",
    "        print(\"Por favor, ingresa un número válido.\")\n",
    "\n",
    "if contador > 0:\n",
    "    promedio = suma / contador\n",
    "    print(f\"\\nLa suma de los números ingresados es: {suma}\")\n",
    "    print(f\"El promedio de los números ingresados es: {promedio}\")\n",
    "else:\n",
    "    print(\"\\nNo ingresaste ningún número válido.\")"
   ]
  }
 ],
 "metadata": {
  "kernelspec": {
   "display_name": "Python 3",
   "language": "python",
   "name": "python3"
  },
  "language_info": {
   "name": "python",
   "version": "3.x"
  }
 },
 "nbformat": 4,
 "nbformat_minor": 5
}
