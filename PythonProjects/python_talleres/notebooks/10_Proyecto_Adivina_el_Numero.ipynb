{
 "cells": [
  {
   "cell_type": "markdown",
   "metadata": {},
   "source": [
    "# 10) Mini-proyecto integrador: *Adivina el número*\n",
    "\n",
    "## ¿Qué es?\n",
    "Un pequeño juego de consola para **aplicar todo lo aprendido**: entrada/salida, condicionales, bucles, funciones, manejo de errores y módulos.\n",
    "\n",
    "## ¿Para qué se usa?\n",
    "Para **integrar conceptos** en un programa con lógica de juego, retroalimentación y control de intentos.\n"
   ]
  },
  {
   "cell_type": "markdown",
   "metadata": {},
   "source": [
    "## Especificación\n",
    "- La máquina piensa un número de 1 a 20.\n",
    "- El usuario tiene 3 intentos.\n",
    "- Indica si el intento es mayor/menor y termina si acierta.\n",
    "- Maneja entradas inválidas sin romper el programa.\n",
    "\n",
    "## Extensiones sugeridas\n",
    "- Registrar los intentos y mostrarlos al final.\n",
    "- Elegir rango e intentos.\n",
    "- Guardar/leer puntuaciones de un archivo sencillo.\n"
   ]
  },
  {
   "cell_type": "code",
   "execution_count": null,
   "id": "880dfd60",
   "metadata": {},
   "outputs": [],
   "source": [
    "\n",
    "\n",
    "import random\n",
    "\n",
    "def adivina_el_numero():\n",
    "    \"\"\"\n",
    "    Un pequeño juego donde la máquina elige un número y el usuario\n",
    "    tiene 3 intentos para adivinarlo.\n",
    "    \"\"\"\n",
    "    # La máquina piensa un número al azar del 1 al 20\n",
    "    numero_secreto = random.randint(1, 20)\n",
    "    print(\"La máquina ha pensado en un número entre 1 y 20.\")\n",
    "    print(\"Tienes 3 intentos para adivinarlo.\")\n",
    "\n",
    "    # Usamos un bucle for para controlar el número de intentos\n",
    "    for intento in range(1, 4):\n",
    "        try:\n",
    "            # Pedimos el número al usuario\n",
    "            entrada_usuario = input(f\"Intento #{intento}: Ingresa tu número: \")\n",
    "            \n",
    "            # Convertimos la entrada a un número entero\n",
    "            adivinanza = int(entrada_usuario)\n",
    "\n",
    "            # Comparamos el número del usuario con el número secreto\n",
    "            if adivinanza < numero_secreto:\n",
    "                print(\"El número secreto es mayor.\")\n",
    "            elif adivinanza > numero_secreto:\n",
    "                print(\"El número secreto es menor.\")\n",
    "            else:\n",
    "                # El usuario adivinó, salimos del bucle\n",
    "                print(f\"¡Felicidades! Adivinaste el número en {intento} intentos.\")\n",
    "                return\n",
    "\n",
    "        except ValueError:\n",
    "            # Manejamos entradas no válidas\n",
    "            print(\"Entrada inválida. Por favor, ingresa un número.\")\n",
    "\n",
    "    # Si el bucle termina sin adivinar, el juego ha concluido\n",
    "    print(f\"¡Se acabaron los intentos! El número era {numero_secreto}.\")\n",
    "\n",
    "# Ejecutamos el juego\n",
    "adivina_el_numero()"
   ]
  },
  {
   "cell_type": "code",
   "execution_count": null,
   "metadata": {},
   "outputs": [],
   "source": [
    "import random\n",
    "\n",
    "def leer_int(msg):\n",
    "    while True:\n",
    "        try:\n",
    "            return int(input(msg))\n",
    "        except ValueError:\n",
    "            print(\"Ingresa un entero válido.\")\n",
    "\n",
    "def juego(intentos=3, minimo=1, maximo=20):\n",
    "    secreto = random.randint(minimo, maximo)\n",
    "    print(f\"Adivina el número entre {minimo} y {maximo}. Tienes {intentos} intentos.\")\n",
    "    for i in range(1, intentos+1):\n",
    "        n = leer_int(f\"Intento {i}: \")\n",
    "        if n == secreto:\n",
    "            print(\"¡Correcto!\")\n",
    "            return\n",
    "        pista = \"mayor\" if n < secreto else \"menor\"\n",
    "        print(f\"No es. Pista: el secreto es {pista}.\")\n",
    "    print(f\"Sin intentos. Era {secreto}.\")\n",
    "\n",
    "if __name__ == \"__main__\":\n",
    "    juego()\n"
   ]
  }
 ],
 "metadata": {
  "kernelspec": {
   "display_name": "Python 3",
   "language": "python",
   "name": "python3"
  },
  "language_info": {
   "name": "python",
   "version": "3.x"
  }
 },
 "nbformat": 4,
 "nbformat_minor": 5
}
