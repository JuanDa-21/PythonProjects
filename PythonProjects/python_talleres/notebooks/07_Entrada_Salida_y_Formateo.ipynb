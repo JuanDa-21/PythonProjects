{
 "cells": [
  {
   "cell_type": "markdown",
   "metadata": {},
   "source": [
    "# 7) Entrada/Salida y formateo\n",
    "\n",
    "## ¿Qué es?\n",
    "La **interacción por consola**: leer con `input()` y mostrar con `print()`.\n",
    "\n",
    "## ¿Para qué se usa?\n",
    "Para **recoger datos del usuario** y **presentar resultados** con buen formato.\n",
    "\n",
    "## Claves de formateo\n",
    "- f-strings: `f\"{valor:.2f}\"`\n",
    "- `sep` y `end` en `print`\n",
    "- Conversión explícita de tipos al leer (`int`, `float`)\n"
   ]
  },
  {
   "cell_type": "code",
   "execution_count": null,
   "metadata": {},
   "outputs": [],
   "source": [
    "# Suma con formateo\n",
    "a = 12.3456\n",
    "b = 7.8\n",
    "print(f\"Suma: {a + b:.2f}\")\n",
    "print(\"uno\", \"dos\", \"tres\", sep=\" | \", end=\".\n",
    "\")\n"
   ]
  },
  {
   "cell_type": "markdown",
   "metadata": {},
   "source": [
    "### Ejercicios\n",
    "- E1: Pide nombre y año de nacimiento; calcula edad.\n",
    "- E2: Factura: subtotal, IVA (19%), total con 2 decimales.\n",
    "- E3: “Ficha” multi-línea con `\\n` y f-strings.\n",
    "\n",
    "### Reto extra\n",
    "Lee tres notas y muestra promedio, mínima, máxima y si aprueba (>=3.0).\n"
   ]
  },
  {
   "cell_type": "code",
   "execution_count": null,
   "id": "e9297bc5",
   "metadata": {},
   "outputs": [],
   "source": [
    "import datetime\n",
    "\n",
    "nombre = input(\"Por favor, ingresa tu nombre: \")\n",
    "año_nacimiento = int(input(\"Ingresa tu año de nacimiento: \"))\n",
    "\n",
    "año_actual = datetime.date.today().year\n",
    "edad = año_actual - año_nacimiento\n",
    "\n",
    "print(f\"Hola, {nombre}. Tu edad aproximada es de {edad} años.\")"
   ]
  },
  {
   "cell_type": "code",
   "execution_count": null,
   "id": "667e69a7",
   "metadata": {},
   "outputs": [],
   "source": [
    "\n",
    "subtotal = float(input(\"Ingresa el subtotal de la factura: \"))\n",
    "\n",
    "iva = subtotal * 0.19\n",
    "\n",
    "total = subtotal + iva\n",
    "\n",
    "print(f\"\\nSubtotal: ${subtotal:.2f}\")\n",
    "print(f\"IVA (19%): ${iva:.2f}\")\n",
    "print(f\"Total: ${total:.2f}\")\n"
   ]
  },
  {
   "cell_type": "code",
   "execution_count": null,
   "id": "9ae3d9aa",
   "metadata": {},
   "outputs": [],
   "source": [
    "nombre = \"Ana García\"\n",
    "curso = \"Programación I\"\n",
    "semestre = 2\n",
    "\n",
    "ficha = f\"--- Ficha de Estudiante ---\\nNombre: {nombre}\\nCurso: {curso}\\nSemestre: {semestre}\"\n",
    "\n",
    "print(ficha)"
   ]
  }
 ],
 "metadata": {
  "kernelspec": {
   "display_name": "Python 3",
   "language": "python",
   "name": "python3"
  },
  "language_info": {
   "name": "python",
   "version": "3.x"
  }
 },
 "nbformat": 4,
 "nbformat_minor": 5
}
