{
 "cells": [
  {
   "cell_type": "markdown",
   "metadata": {},
   "source": [
    "# 9) Módulos y librerías estándar\n",
    "\n",
    "## ¿Qué son?\n",
    "Archivos y paquetes con **funciones reutilizables**. La **librería estándar** ofrece utilidades listas para usar.\n",
    "\n",
    "## ¿Para qué se usan?\n",
    "Para **no reinventar la rueda**: matemáticas, fechas, aleatoriedad, sistemas de archivos, etc.\n",
    "\n",
    "## Importar\n",
    "- `import modulo`\n",
    "- `from modulo import funcion`\n",
    "- Alias: `import modulo as m`\n"
   ]
  },
  {
   "cell_type": "code",
   "execution_count": null,
   "metadata": {},
   "outputs": [],
   "source": [
    "import math\n",
    "from datetime import datetime\n",
    "import random as rnd\n",
    "\n",
    "print(\"π ~\", math.pi, \"| sqrt(49) =\", math.sqrt(49))\n",
    "print(\"Ahora:\", datetime.now().strftime(\"%Y-%m-%d %H:%M\"))\n",
    "print(\"Aleatorio 1..10:\", rnd.randint(1,10))\n"
   ]
  },
  {
   "cell_type": "markdown",
   "metadata": {},
   "source": [
    "### Ejercicios\n",
    "- E1: Simula 100 lanzamientos de dado y cuenta frecuencias (dict).\n",
    "- E2: Calcula hipotenusa con `math.hypot(a,b)`.\n",
    "- E3: ¿Cuántos días faltan para fin de año?\n",
    "\n",
    "### Reto extra\n",
    "Juego **Piedra, Papel o Tijera** contra la máquina (mejor de 3).\n"
   ]
  }
 ],
 "metadata": {
  "kernelspec": {
   "display_name": "Python 3",
   "language": "python",
   "name": "python3"
  },
  "language_info": {
   "name": "python",
   "version": "3.x"
  }
 },
 "nbformat": 4,
 "nbformat_minor": 5
}
