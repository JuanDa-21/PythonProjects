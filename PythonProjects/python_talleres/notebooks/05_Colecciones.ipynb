{
 "cells": [
  {
   "cell_type": "markdown",
   "metadata": {},
   "source": [
    "# 5) Colecciones: listas, tuplas y diccionarios\n",
    "\n",
    "## ¿Qué son?\n",
    "Estructuras para **agrupar datos**: secuencias (`list`, `tuple`) y mapeos (`dict`).\n",
    "\n",
    "## ¿Para qué se usan?\n",
    "Para **organizar, acceder y transformar** conjuntos de valores.\n",
    "\n",
    "## Puntos clave\n",
    "- `list` (mutable) — métodos como `append`, `pop`, `sort`.\n",
    "- `tuple` (inmutable) — útil para datos que no cambian.\n",
    "- `dict` (clave→valor) — acceso por clave y métodos `.items()`, `.keys()`.\n"
   ]
  },
  {
   "cell_type": "code",
   "execution_count": null,
   "metadata": {},
   "outputs": [],
   "source": [
    "comidas = [\"arepa\", \"ajiaco\", \"bandeja\"]\n",
    "comidas.append(\"sancocho\")\n",
    "print(\"Lista:\", comidas)\n",
    "\n",
    "punto = (10, 20)\n",
    "print(\"Tupla:\", punto[0], punto[1])\n",
    "\n",
    "persona = {\"nombre\": \"Ada\", \"edad\": 28, \"ciudad\": \"Bogotá\"}\n",
    "persona[\"edad\"] += 1\n",
    "for k, v in persona.items():\n",
    "    print(k, \"->\", v)\n"
   ]
  },
  {
   "cell_type": "markdown",
   "metadata": {},
   "source": [
    "### Ejercicios\n",
    "- E1: Lista de 5 números, calcula suma y promedio.\n",
    "- E2: Diccionario de 3 contactos (nombre→tel), consulta por nombre.\n",
    "- E3: Convierte lista de pares `(clave, valor)` en `dict` y recórrelo.\n",
    "\n",
    "### Reto extra\n",
    "**Inventario simple**: lista de dicts con `{\"producto\",\"precio\",\"stock\"}`. Muestra:\n",
    "- Total del inventario.\n",
    "- Producto más caro.\n"
   ]
  },
  {
   "cell_type": "code",
   "execution_count": null,
   "id": "ee7b29aa",
   "metadata": {},
   "outputs": [],
   "source": [
    "\n",
    "numeros = [15, 20, 25, 30, 35]\n",
    "\n",
    "suma = sum(numeros)\n",
    "\n",
    "promedio = suma / len(numeros)\n",
    "\n",
    "print(f\"La lista de números es: {numeros}\")\n",
    "print(f\"La suma total es: {suma}\")\n",
    "print(f\"El promedio es: {promedio}\")"
   ]
  },
  {
   "cell_type": "code",
   "execution_count": null,
   "id": "b82acc6d",
   "metadata": {},
   "outputs": [],
   "source": [
    "contactos = {\n",
    "    \"Ana\": \"310-123-4567\",\n",
    "    \"Luis\": \"320-987-6543\",\n",
    "    \"Marta\": \"300-555-1234\"\n",
    "}\n",
    "\n",
    "nombre_buscado = input(\"Ingresa el nombre del contacto para buscar: \")\n",
    "\n",
    "if nombre_buscado in contactos:\n",
    "    telefono = contactos[nombre_buscado]\n",
    "    print(f\"El número de teléfono de {nombre_buscado} es: {telefono}\")\n",
    "else:\n",
    "    print(f\"El contacto '{nombre_buscado}' no se encontró.\")"
   ]
  },
  {
   "cell_type": "code",
   "execution_count": null,
   "id": "b6cfe5ff",
   "metadata": {},
   "outputs": [],
   "source": [
    "lista_de_pares = [(\"manzana\", 1), (\"banana\", 2), (\"naranja\", 3)]\n",
    "\n",
    "diccionario_frutas = dict(lista_de_pares)\n",
    "\n",
    "print(\"Diccionario creado:\")\n",
    "print(diccionario_frutas)\n",
    "\n",
    "print(\"\\nRecorriendo el diccionario:\")\n",
    "\n",
    "for clave, valor in diccionario_frutas.items():\n",
    "    print(f\"Clave: {clave}, Valor: {valor}\")"
   ]
  }
 ],
 "metadata": {
  "kernelspec": {
   "display_name": "Python 3",
   "language": "python",
   "name": "python3"
  },
  "language_info": {
   "name": "python",
   "version": "3.x"
  }
 },
 "nbformat": 4,
 "nbformat_minor": 5
}
