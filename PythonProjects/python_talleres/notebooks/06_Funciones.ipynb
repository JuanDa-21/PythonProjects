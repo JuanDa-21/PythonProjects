{
 "cells": [
  {
   "cell_type": "markdown",
   "metadata": {},
   "source": [
    "# 6) Funciones\n",
    "\n",
    "## ¿Qué son?\n",
    "Bloques reutilizables de código que **reciben parámetros** y **devuelven resultados**.\n",
    "\n",
    "## ¿Para qué se usan?\n",
    "Para **encapsular lógica**, evitar duplicación y mejorar claridad y pruebas.\n",
    "\n",
    "## Ideas clave\n",
    "- `def nombre(param...) -> retorno`\n",
    "- Valores por defecto, *docstrings*, pruebas simples\n",
    "- Ámbito: variables locales vs globales\n"
   ]
  },
  {
   "cell_type": "code",
   "execution_count": null,
   "metadata": {},
   "outputs": [],
   "source": [
    "def saluda(nombre: str) -> str:\n",
    "    \"\"\"Devuelve un saludo personalizado.\"\"\"\n",
    "    return f\"Hola, {nombre}!\"\n",
    "\n",
    "def potencia(base: float, exp: int = 2) -> float:\n",
    "    return base ** exp\n",
    "\n",
    "print(saluda(\"Ada\"))\n",
    "print(\"Potencia:\", potencia(3), potencia(2, 5))\n"
   ]
  },
  {
   "cell_type": "markdown",
   "metadata": {},
   "source": [
    "### Ejercicios\n",
    "- E1: `suma(a,b)` y `es_par(n)`.\n",
    "- E2: `promedio(numeros: list[float]) -> float`.\n",
    "- E3: `normaliza_nombre(s)`: quita espacios y capitaliza.\n",
    "\n",
    "### Reto extra\n",
    "`filtra_mayores(lista, umbral)` y `transforma(lista, f)` (simulan `filter`/`map`).\n"
   ]
  },
  {
   "cell_type": "code",
   "execution_count": null,
   "id": "8dbfa51f",
   "metadata": {},
   "outputs": [],
   "source": [
    "def suma(a, b):\n",
    "  \"\"\"Recibe dos números y devuelve su suma.\"\"\"\n",
    "  return a + b\n",
    "\n",
    "def es_par(n):\n",
    "  \"\"\"Recibe un número y devuelve True si es par, False en caso contrario.\"\"\"\n",
    "  return n % 2 == 0\n",
    "\n",
    "print(f\"La suma de 5 y 3 es: {suma(5, 3)}\")\n",
    "print(f\"¿Es 4 par? {es_par(4)}\")\n",
    "print(f\"¿Es 7 par? {es_par(7)}\")"
   ]
  },
  {
   "cell_type": "code",
   "execution_count": null,
   "id": "507f758a",
   "metadata": {},
   "outputs": [],
   "source": [
    "from typing import List\n",
    "\n",
    "def promedio(numeros: List[float]) -> float:\n",
    "  \"\"\"\n",
    "  Calcula el promedio de una lista de números.\n",
    "  \n",
    "  Args:\n",
    "    numeros: Una lista de números flotantes.\n",
    "    \n",
    "  Returns:\n",
    "    El promedio de los números en la lista.\n",
    "  \"\"\"\n",
    "  if not numeros:\n",
    "    return 0.0  \n",
    "  return sum(numeros) / len(numeros)\n",
    "\n",
    "\n",
    "lista_numeros = [10.5, 20.0, 30.5, 40.0]\n",
    "print(f\"El promedio de {lista_numeros} es: {promedio(lista_numeros)}\")"
   ]
  },
  {
   "cell_type": "code",
   "execution_count": null,
   "id": "23e744a5",
   "metadata": {},
   "outputs": [],
   "source": [
    "def normaliza_nombre(s: str) -> str:\n",
    "  \"\"\"\n",
    "  Normaliza una cadena de texto: quita espacios y capitaliza.\n",
    "  \n",
    "  Args:\n",
    "    s: La cadena de texto a normalizar.\n",
    "    \n",
    "  Returns:\n",
    "    La cadena normalizada.\n",
    "  \"\"\"\n",
    "  return s.strip().title()\n",
    "\n",
    "nombre1 = \"   juan perez   \"\n",
    "nombre2 = \"ana maria gomez\"\n",
    "print(f\"'{nombre1}' normalizado es: '{normaliza_nombre(nombre1)}'\")\n",
    "print(f\"'{nombre2}' normalizado es: '{normaliza_nombre(nombre2)}'\")"
   ]
  },
  {
   "cell_type": "code",
   "execution_count": null,
   "metadata": {},
   "outputs": [],
   "source": [
    "# Pista para promedio\n",
    "def promedio(nums):\n",
    "    return sum(nums) / len(nums) if nums else 0.0\n",
    "\n",
    "print(\"Promedio de [1,2,3]:\", promedio([1,2,3]))\n"
   ]
  }
 ],
 "metadata": {
  "kernelspec": {
   "display_name": "Python 3",
   "language": "python",
   "name": "python3"
  },
  "language_info": {
   "name": "python",
   "version": "3.x"
  }
 },
 "nbformat": 4,
 "nbformat_minor": 5
}
