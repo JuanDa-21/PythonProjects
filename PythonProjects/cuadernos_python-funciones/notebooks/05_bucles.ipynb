{
 "cells": [
  {
   "cell_type": "markdown",
   "id": "2904a8a4",
   "metadata": {},
   "source": [
    "# 05 - Bucles\n",
    "\n",
    "> Colección de cuadernos didácticos de Python (VS Code)."
   ]
  },
  {
   "cell_type": "markdown",
   "id": "cd7cdb1d",
   "metadata": {},
   "source": [
    "## `for` e iterables\n",
    "`for` itera sobre cualquier objeto **iterable** (que produce un iterador)."
   ]
  },
  {
   "cell_type": "code",
   "execution_count": 1,
   "id": "a340e674",
   "metadata": {},
   "outputs": [
    {
     "name": "stdout",
     "output_type": "stream",
     "text": [
      "Hola, Ada\n",
      "Hola, Guido\n",
      "Hola, Linus\n"
     ]
    }
   ],
   "source": [
    "nombres = [\"Ada\", \"Guido\", \"Linus\"]\n",
    "for nombre in nombres:\n",
    "    print(f\"Hola, {nombre}\")\n"
   ]
  },
  {
   "cell_type": "markdown",
   "id": "277879b7",
   "metadata": {},
   "source": [
    "## `while`, `break`, `continue`, `else` en bucles"
   ]
  },
  {
   "cell_type": "code",
   "execution_count": 2,
   "id": "4bd5f619",
   "metadata": {},
   "outputs": [
    {
     "name": "stdout",
     "output_type": "stream",
     "text": [
      "Iteración: 1\n",
      "Iteración: 3\n"
     ]
    }
   ],
   "source": [
    "conteo = 0\n",
    "while conteo < 5:\n",
    "    conteo += 1\n",
    "    if conteo == 2:\n",
    "        continue\n",
    "    if conteo == 4:\n",
    "        break\n",
    "    print(\"Iteración:\", conteo)\n",
    "else:\n",
    "    print(\"Esto se ejecuta si el bucle no se interrumpe con break\")\n"
   ]
  },
  {
   "cell_type": "markdown",
   "id": "3ea9f5c5",
   "metadata": {},
   "source": [
    "## `enumerate`, `range`, `zip`\n",
    "Herramientas útiles para índices, secuencias y combinación paralela."
   ]
  },
  {
   "cell_type": "code",
   "execution_count": 3,
   "id": "a3e50175",
   "metadata": {},
   "outputs": [
    {
     "name": "stdout",
     "output_type": "stream",
     "text": [
      "1 POO 3\n",
      "2 BD 4\n",
      "3 IA 3\n"
     ]
    }
   ],
   "source": [
    "programas = [\"POO\", \"BD\", \"IA\"]\n",
    "creditos = [3, 4, 3]\n",
    "for indice, (programa, credito) in enumerate(zip(programas, creditos), start=1):\n",
    "    print(indice, programa, credito)\n"
   ]
  },
  {
   "cell_type": "markdown",
   "id": "ddc6e776",
   "metadata": {},
   "source": [
    "## Comprensiones de listas, diccionarios y conjuntos"
   ]
  },
  {
   "cell_type": "code",
   "execution_count": 4,
   "id": "cfe858f3",
   "metadata": {},
   "outputs": [
    {
     "name": "stdout",
     "output_type": "stream",
     "text": [
      "[0, 1, 4, 9, 16, 25] {1, 3, 5, 7, 9} {'datos': 5, 'informacion': 11, 'conocimiento': 12}\n"
     ]
    }
   ],
   "source": [
    "cuadrados = [numero**2 for numero in range(6)]\n",
    "impares = {numero for numero in range(10) if numero % 2}\n",
    "longitudes = {palabra: len(palabra) for palabra in [\"datos\", \"informacion\", \"conocimiento\"]}\n",
    "print(cuadrados, impares, longitudes)\n"
   ]
  },
  {
   "cell_type": "markdown",
   "id": "27b0d51e",
   "metadata": {},
   "source": [
    "## Iteradores y generadores (`yield`)"
   ]
  },
  {
   "cell_type": "code",
   "execution_count": 5,
   "id": "bddc7759",
   "metadata": {},
   "outputs": [
    {
     "name": "stdout",
     "output_type": "stream",
     "text": [
      "[1, 1, 2, 3, 5, 8, 13, 21, 34]\n"
     ]
    }
   ],
   "source": [
    "def generador_fibonacci(limite: int):\n",
    "    anterior, actual = 0, 1\n",
    "    while actual <= limite:\n",
    "        yield actual\n",
    "        anterior, actual = actual, anterior + actual\n",
    "\n",
    "print(list(generador_fibonacci(50)))\n"
   ]
  },
  {
   "cell_type": "markdown",
   "id": "3d4d2b24",
   "metadata": {},
   "source": [
    "## Ejercicios\n",
    "1. Construye una lista de números primos hasta `n` con comprensión y una función auxiliar `es_primo`.\n",
    "2. Implementa un generador que produzca líneas de un archivo muy grande bajo demanda."
   ]
  },
  {
   "cell_type": "code",
   "execution_count": null,
   "id": "facd298a",
   "metadata": {},
   "outputs": [],
   "source": [
    "def es_primo(numero):\n",
    "    if numero < 2: return False\n",
    "    return all(numero % i != 0 for i in range(2, int(numero**0.5) + 1))\n",
    "\n",
    "def lista_primos(n):\n",
    "    return [numero for numero in range(n + 1) if es_primo(numero)]\n"
   ]
  },
  {
   "cell_type": "code",
   "execution_count": null,
   "id": "f4a585dd",
   "metadata": {},
   "outputs": [],
   "source": [
    "# Punto de partida para el ejercicio 1\n",
    "def es_primo(numero: int) -> bool:\n",
    "    if numero < 2:\n",
    "        return False\n",
    "    for divisor in range(2, int(numero**0.5) + 1):\n",
    "        if numero % divisor == 0:\n",
    "            return False\n",
    "    return True\n",
    "\n",
    "primos_hasta_50 = [n for n in range(2, 51) if es_primo(n)]\n",
    "print(primos_hasta_50)\n"
   ]
  }
 ],
 "metadata": {
  "kernelspec": {
   "display_name": "Python 3",
   "language": "python",
   "name": "python3"
  },
  "language_info": {
   "codemirror_mode": {
    "name": "ipython",
    "version": 3
   },
   "file_extension": ".py",
   "mimetype": "text/x-python",
   "name": "python",
   "nbconvert_exporter": "python",
   "pygments_lexer": "ipython3",
   "version": "3.11.9"
  }
 },
 "nbformat": 4,
 "nbformat_minor": 5
}
